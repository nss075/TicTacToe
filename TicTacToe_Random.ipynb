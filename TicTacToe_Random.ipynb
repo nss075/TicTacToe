{
  "nbformat": 4,
  "nbformat_minor": 0,
  "metadata": {
    "colab": {
      "provenance": [],
      "authorship_tag": "ABX9TyMFstUCi60mJLxNQ1ChJEhj",
      "include_colab_link": true
    },
    "kernelspec": {
      "name": "python3",
      "display_name": "Python 3"
    },
    "language_info": {
      "name": "python"
    }
  },
  "cells": [
    {
      "cell_type": "markdown",
      "metadata": {
        "id": "view-in-github",
        "colab_type": "text"
      },
      "source": [
        "<a href=\"https://colab.research.google.com/github/nss075/TicTacToe/blob/main/TicTacToe_Random.ipynb\" target=\"_parent\"><img src=\"https://colab.research.google.com/assets/colab-badge.svg\" alt=\"Open In Colab\"/></a>"
      ]
    },
    {
      "cell_type": "code",
      "execution_count": 10,
      "metadata": {
        "id": "yTh6OTmKQj8G"
      },
      "outputs": [],
      "source": [
        "#global variables\n",
        "import random\n",
        "board=[\"-\",\"-\",\"-\",\n",
        "       \"-\",\"-\",\"-\",\n",
        "       \"-\",\"-\",\"-\"]\n",
        "currentPlayer=\"X\"\n",
        "winner=None       #initial\n",
        "gameRunning=True  #loop controller\n"
      ]
    },
    {
      "cell_type": "code",
      "source": [
        "#printing the game board\n",
        "def printBoard(board):\n",
        "  print(board[0] + \" | \" + board[1] + \" | \" + board[2])\n",
        "  print(\"----------\")\n",
        "  print(board[3] + \" | \" + board[4] + \" | \" + board[5])\n",
        "  print(\"----------\")\n",
        "  print(board[6] + \" | \" + board[7] + \" | \" + board[8])\n",
        ""
      ],
      "metadata": {
        "id": "-cyRSWY8FK2c"
      },
      "execution_count": 5,
      "outputs": []
    },
    {
      "cell_type": "code",
      "source": [
        "#take player input\n",
        "def playerInput(board):\n",
        "  inp = int(input(\"Enter the number 1-9: \"))\n",
        "  if inp>=1 and inp<=9 and board[inp-1]==\"-\":\n",
        "    board[inp-1]=currentPlayer\n",
        "  else:\n",
        "    print(\"already occupied by opposite player\")"
      ],
      "metadata": {
        "id": "sGjZbfTLGxo9"
      },
      "execution_count": 6,
      "outputs": []
    },
    {
      "cell_type": "code",
      "source": [
        "# check for win or ties\n",
        "def CheckHorizontle(board):\n",
        "  global winner\n",
        "  if board[0] == board[1] == board[2] and board[1] != \"-\":\n",
        "    winner= board[0]\n",
        "    return True\n",
        "  elif board[3] == board[4] == board[5] and board[3] != \"-\":\n",
        "    winner=board[3]\n",
        "    return True\n",
        "  elif board[6] == board[7] == board[8] and board[6] != \"-\":\n",
        "    winner= board[6]\n",
        "    return True\n",
        "\n",
        "def checkRow(board):\n",
        "  global winner\n",
        "  if board[0] == board[3] == board[6] and board[0] != \"-\":\n",
        "    winner= board[3]\n",
        "    return True\n",
        "  elif board[1] == board[4] == board[7] and board[1] !=\"-\":\n",
        "    winner= board[1]\n",
        "    return True\n",
        "  elif board[2] == board[6] == board[8] and board[2] !=\"-\":\n",
        "    winner= board[2]\n",
        "    return True\n",
        "\n",
        "def checkDiag(board):\n",
        "  global winner\n",
        "  if board[0] == board[4] == board[8] and board[0] != \"-\":\n",
        "    winner=board[0]\n",
        "    return True\n",
        "  elif board[2] == board[4] == board[6] and board[2] != \"-\":\n",
        "    winner=board[2]\n",
        "    return True\n",
        "\n",
        "def checkTie(board):\n",
        "  if \"-\" not in board:\n",
        "    printBoard(board)\n",
        "    print(\"It is a tie!\")\n",
        "    gameRunning=False\n",
        "\n",
        "def checkWin():\n",
        "  if checkDiag(board) or CheckHorizontle(board) or checkRow(board):\n",
        "    print(f\"The winner is {winner}\")\n"
      ],
      "metadata": {
        "id": "esiKQVtuJ9TB"
      },
      "execution_count": 7,
      "outputs": []
    },
    {
      "cell_type": "code",
      "source": [
        "# Switch the player\n",
        "def switchPlayer():\n",
        "  global currentPlayer\n",
        "  if currentPlayer == \"X\":\n",
        "    currentPlayer =\"O\"\n",
        "  else:\n",
        "    currentPlayer = \"X\""
      ],
      "metadata": {
        "id": "RknA6x0qA5JX"
      },
      "execution_count": 8,
      "outputs": []
    },
    {
      "cell_type": "code",
      "source": [
        "# computer\n",
        "def computer(board):\n",
        "  while currentPlayer == \"O\":\n",
        "    position = random.randint(0,8)\n",
        "    if board[position] == \"-\":\n",
        "      board[position] = \"O\"\n",
        "      switchPlayer()"
      ],
      "metadata": {
        "id": "vMkpMvVtBgbP"
      },
      "execution_count": 11,
      "outputs": []
    },
    {
      "cell_type": "code",
      "source": [
        "while gameRunning:\n",
        "  printBoard(board)\n",
        "  playerInput(board)\n",
        "  checkWin()\n",
        "  checkTie(board)\n",
        "  switchPlayer()\n",
        "  computer(board)\n",
        "  checkWin()\n",
        "  checkTie(board)"
      ],
      "metadata": {
        "colab": {
          "base_uri": "https://localhost:8080/",
          "height": 1000
        },
        "id": "pOdziub8IpT3",
        "outputId": "a5d3a7d0-843d-4539-8a8d-7b486f96d094"
      },
      "execution_count": 12,
      "outputs": [
        {
          "output_type": "stream",
          "name": "stdout",
          "text": [
            "- | - | -\n",
            "----------\n",
            "- | - | -\n",
            "----------\n",
            "- | - | -\n",
            "Enter the number 1-9: 3\n",
            "- | O | X\n",
            "----------\n",
            "- | - | -\n",
            "----------\n",
            "- | - | -\n",
            "Enter the number 1-9: 6\n",
            "- | O | X\n",
            "----------\n",
            "- | - | X\n",
            "----------\n",
            "O | - | -\n",
            "Enter the number 1-9: 8\n",
            "- | O | X\n",
            "----------\n",
            "- | - | X\n",
            "----------\n",
            "O | X | O\n",
            "Enter the number 1-9: 1\n",
            "X | O | X\n",
            "----------\n",
            "- | O | X\n",
            "----------\n",
            "O | X | O\n",
            "Enter the number 1-9: 4\n",
            "X | O | X\n",
            "----------\n",
            "X | O | X\n",
            "----------\n",
            "O | X | O\n",
            "It is a tie!\n"
          ]
        },
        {
          "output_type": "error",
          "ename": "KeyboardInterrupt",
          "evalue": "ignored",
          "traceback": [
            "\u001b[0;31m---------------------------------------------------------------------------\u001b[0m",
            "\u001b[0;31mKeyboardInterrupt\u001b[0m                         Traceback (most recent call last)",
            "\u001b[0;32m<ipython-input-12-52c4c86de386>\u001b[0m in \u001b[0;36m<cell line: 1>\u001b[0;34m()\u001b[0m\n\u001b[1;32m      5\u001b[0m   \u001b[0mcheckTie\u001b[0m\u001b[0;34m(\u001b[0m\u001b[0mboard\u001b[0m\u001b[0;34m)\u001b[0m\u001b[0;34m\u001b[0m\u001b[0;34m\u001b[0m\u001b[0m\n\u001b[1;32m      6\u001b[0m   \u001b[0mswitchPlayer\u001b[0m\u001b[0;34m(\u001b[0m\u001b[0;34m)\u001b[0m\u001b[0;34m\u001b[0m\u001b[0;34m\u001b[0m\u001b[0m\n\u001b[0;32m----> 7\u001b[0;31m   \u001b[0mcomputer\u001b[0m\u001b[0;34m(\u001b[0m\u001b[0mboard\u001b[0m\u001b[0;34m)\u001b[0m\u001b[0;34m\u001b[0m\u001b[0;34m\u001b[0m\u001b[0m\n\u001b[0m\u001b[1;32m      8\u001b[0m   \u001b[0mcheckWin\u001b[0m\u001b[0;34m(\u001b[0m\u001b[0;34m)\u001b[0m\u001b[0;34m\u001b[0m\u001b[0;34m\u001b[0m\u001b[0m\n\u001b[1;32m      9\u001b[0m   \u001b[0mcheckTie\u001b[0m\u001b[0;34m(\u001b[0m\u001b[0mboard\u001b[0m\u001b[0;34m)\u001b[0m\u001b[0;34m\u001b[0m\u001b[0;34m\u001b[0m\u001b[0m\n",
            "\u001b[0;32m<ipython-input-11-631308be072a>\u001b[0m in \u001b[0;36mcomputer\u001b[0;34m(board)\u001b[0m\n\u001b[1;32m      2\u001b[0m \u001b[0;32mdef\u001b[0m \u001b[0mcomputer\u001b[0m\u001b[0;34m(\u001b[0m\u001b[0mboard\u001b[0m\u001b[0;34m)\u001b[0m\u001b[0;34m:\u001b[0m\u001b[0;34m\u001b[0m\u001b[0;34m\u001b[0m\u001b[0m\n\u001b[1;32m      3\u001b[0m   \u001b[0;32mwhile\u001b[0m \u001b[0mcurrentPlayer\u001b[0m \u001b[0;34m==\u001b[0m \u001b[0;34m\"O\"\u001b[0m\u001b[0;34m:\u001b[0m\u001b[0;34m\u001b[0m\u001b[0;34m\u001b[0m\u001b[0m\n\u001b[0;32m----> 4\u001b[0;31m     \u001b[0mposition\u001b[0m \u001b[0;34m=\u001b[0m \u001b[0mrandom\u001b[0m\u001b[0;34m.\u001b[0m\u001b[0mrandint\u001b[0m\u001b[0;34m(\u001b[0m\u001b[0;36m0\u001b[0m\u001b[0;34m,\u001b[0m\u001b[0;36m8\u001b[0m\u001b[0;34m)\u001b[0m\u001b[0;34m\u001b[0m\u001b[0;34m\u001b[0m\u001b[0m\n\u001b[0m\u001b[1;32m      5\u001b[0m     \u001b[0;32mif\u001b[0m \u001b[0mboard\u001b[0m\u001b[0;34m[\u001b[0m\u001b[0mposition\u001b[0m\u001b[0;34m]\u001b[0m \u001b[0;34m==\u001b[0m \u001b[0;34m\"-\"\u001b[0m\u001b[0;34m:\u001b[0m\u001b[0;34m\u001b[0m\u001b[0;34m\u001b[0m\u001b[0m\n\u001b[1;32m      6\u001b[0m       \u001b[0mboard\u001b[0m\u001b[0;34m[\u001b[0m\u001b[0mposition\u001b[0m\u001b[0;34m]\u001b[0m \u001b[0;34m=\u001b[0m \u001b[0;34m\"O\"\u001b[0m\u001b[0;34m\u001b[0m\u001b[0;34m\u001b[0m\u001b[0m\n",
            "\u001b[0;32m/usr/lib/python3.10/random.py\u001b[0m in \u001b[0;36mrandint\u001b[0;34m(self, a, b)\u001b[0m\n\u001b[1;32m    368\u001b[0m         \"\"\"\n\u001b[1;32m    369\u001b[0m \u001b[0;34m\u001b[0m\u001b[0m\n\u001b[0;32m--> 370\u001b[0;31m         \u001b[0;32mreturn\u001b[0m \u001b[0mself\u001b[0m\u001b[0;34m.\u001b[0m\u001b[0mrandrange\u001b[0m\u001b[0;34m(\u001b[0m\u001b[0ma\u001b[0m\u001b[0;34m,\u001b[0m \u001b[0mb\u001b[0m\u001b[0;34m+\u001b[0m\u001b[0;36m1\u001b[0m\u001b[0;34m)\u001b[0m\u001b[0;34m\u001b[0m\u001b[0;34m\u001b[0m\u001b[0m\n\u001b[0m\u001b[1;32m    371\u001b[0m \u001b[0;34m\u001b[0m\u001b[0m\n\u001b[1;32m    372\u001b[0m \u001b[0;34m\u001b[0m\u001b[0m\n",
            "\u001b[0;32m/usr/lib/python3.10/random.py\u001b[0m in \u001b[0;36mrandrange\u001b[0;34m(self, start, stop, step)\u001b[0m\n\u001b[1;32m    350\u001b[0m         \u001b[0;32mif\u001b[0m \u001b[0mistep\u001b[0m \u001b[0;34m==\u001b[0m \u001b[0;36m1\u001b[0m\u001b[0;34m:\u001b[0m\u001b[0;34m\u001b[0m\u001b[0;34m\u001b[0m\u001b[0m\n\u001b[1;32m    351\u001b[0m             \u001b[0;32mif\u001b[0m \u001b[0mwidth\u001b[0m \u001b[0;34m>\u001b[0m \u001b[0;36m0\u001b[0m\u001b[0;34m:\u001b[0m\u001b[0;34m\u001b[0m\u001b[0;34m\u001b[0m\u001b[0m\n\u001b[0;32m--> 352\u001b[0;31m                 \u001b[0;32mreturn\u001b[0m \u001b[0mistart\u001b[0m \u001b[0;34m+\u001b[0m \u001b[0mself\u001b[0m\u001b[0;34m.\u001b[0m\u001b[0m_randbelow\u001b[0m\u001b[0;34m(\u001b[0m\u001b[0mwidth\u001b[0m\u001b[0;34m)\u001b[0m\u001b[0;34m\u001b[0m\u001b[0;34m\u001b[0m\u001b[0m\n\u001b[0m\u001b[1;32m    353\u001b[0m             \u001b[0;32mraise\u001b[0m \u001b[0mValueError\u001b[0m\u001b[0;34m(\u001b[0m\u001b[0;34m\"empty range for randrange() (%d, %d, %d)\"\u001b[0m \u001b[0;34m%\u001b[0m \u001b[0;34m(\u001b[0m\u001b[0mistart\u001b[0m\u001b[0;34m,\u001b[0m \u001b[0mistop\u001b[0m\u001b[0;34m,\u001b[0m \u001b[0mwidth\u001b[0m\u001b[0;34m)\u001b[0m\u001b[0;34m)\u001b[0m\u001b[0;34m\u001b[0m\u001b[0;34m\u001b[0m\u001b[0m\n\u001b[1;32m    354\u001b[0m \u001b[0;34m\u001b[0m\u001b[0m\n",
            "\u001b[0;32m/usr/lib/python3.10/random.py\u001b[0m in \u001b[0;36m_randbelow_with_getrandbits\u001b[0;34m(self, n)\u001b[0m\n\u001b[1;32m    237\u001b[0m                 \u001b[0;32mbreak\u001b[0m\u001b[0;34m\u001b[0m\u001b[0;34m\u001b[0m\u001b[0m\n\u001b[1;32m    238\u001b[0m \u001b[0;34m\u001b[0m\u001b[0m\n\u001b[0;32m--> 239\u001b[0;31m     \u001b[0;32mdef\u001b[0m \u001b[0m_randbelow_with_getrandbits\u001b[0m\u001b[0;34m(\u001b[0m\u001b[0mself\u001b[0m\u001b[0;34m,\u001b[0m \u001b[0mn\u001b[0m\u001b[0;34m)\u001b[0m\u001b[0;34m:\u001b[0m\u001b[0;34m\u001b[0m\u001b[0;34m\u001b[0m\u001b[0m\n\u001b[0m\u001b[1;32m    240\u001b[0m         \u001b[0;34m\"Return a random int in the range [0,n).  Returns 0 if n==0.\"\u001b[0m\u001b[0;34m\u001b[0m\u001b[0;34m\u001b[0m\u001b[0m\n\u001b[1;32m    241\u001b[0m \u001b[0;34m\u001b[0m\u001b[0m\n",
            "\u001b[0;31mKeyboardInterrupt\u001b[0m: "
          ]
        }
      ]
    },
    {
      "cell_type": "code",
      "source": [],
      "metadata": {
        "id": "7uBCroZ8I-13"
      },
      "execution_count": null,
      "outputs": []
    }
  ]
}